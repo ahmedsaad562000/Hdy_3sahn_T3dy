{
 "cells": [
  {
   "cell_type": "code",
   "execution_count": 1,
   "metadata": {},
   "outputs": [],
   "source": [
    "from importlib import reload\n",
    "from libs import io , cv2 , np\n",
    "\n",
    "import preprocessing as pp\n",
    "import roi as roi\n",
    "import detection as detect\n",
    "from classifier import H3T_Classifier\n",
    "from numbers_classifier import H3T_Numbers_Classifier\n",
    "import videoread as vr\n",
    "from skimage import filters\n"
   ]
  },
  {
   "cell_type": "code",
   "execution_count": 8,
   "metadata": {},
   "outputs": [
    {
     "data": {
      "text/plain": [
       "<module 'videoread' from 'd:\\\\IP\\\\project\\\\real\\\\full_pipeline\\\\videoread.py'>"
      ]
     },
     "execution_count": 8,
     "metadata": {},
     "output_type": "execute_result"
    }
   ],
   "source": [
    "\n",
    "reload(roi)\n",
    "reload(detect)\n",
    "reload(vr)\n",
    "\n"
   ]
  },
  {
   "cell_type": "code",
   "execution_count": 3,
   "metadata": {},
   "outputs": [],
   "source": [
    "# INIT\n",
    "\n",
    "sign_imgs_corr = detect.get_corrleation_matrices(\"../dataset/corr_signs\")\n"
   ]
  },
  {
   "cell_type": "code",
   "execution_count": null,
   "metadata": {},
   "outputs": [],
   "source": [
    "\n",
    "classifier = H3T_Classifier()\n"
   ]
  },
  {
   "cell_type": "code",
   "execution_count": null,
   "metadata": {},
   "outputs": [],
   "source": [
    "classifier.prepare_training_data(\"../dataset/numbers_training_set\")\n",
    "classifier.train(\"svm\")\n"
   ]
  },
  {
   "cell_type": "code",
   "execution_count": null,
   "metadata": {},
   "outputs": [],
   "source": [
    "\n",
    "classifier.save_trained_model()"
   ]
  },
  {
   "cell_type": "code",
   "execution_count": null,
   "metadata": {},
   "outputs": [],
   "source": [
    "\n",
    "classifier.load_trained_model()\n"
   ]
  },
  {
   "cell_type": "code",
   "execution_count": 18,
   "metadata": {},
   "outputs": [],
   "source": [
    "numbers_classifier = H3T_Numbers_Classifier()"
   ]
  },
  {
   "cell_type": "code",
   "execution_count": null,
   "metadata": {},
   "outputs": [],
   "source": [
    "numbers_classifier.prepare_training_data(\"../dataset/numbers_training_set\")\n",
    "numbers_classifier.train(\"svm\")"
   ]
  },
  {
   "cell_type": "code",
   "execution_count": null,
   "metadata": {},
   "outputs": [],
   "source": [
    "numbers_classifier.save_trained_model()"
   ]
  },
  {
   "cell_type": "code",
   "execution_count": 19,
   "metadata": {},
   "outputs": [],
   "source": [
    "numbers_classifier.load_trained_model()"
   ]
  },
  {
   "cell_type": "code",
   "execution_count": null,
   "metadata": {},
   "outputs": [],
   "source": [
    "video_path = '../dataset/videos/IMG_50661.mp4'\n",
    "video_frames_folder = '../dataset/video_frames'\n",
    "vr.clear_folder(video_frames_folder)\n",
    "video_frames = vr.extract_frames(video_path, video_frames_folder, fps=15)"
   ]
  },
  {
   "cell_type": "code",
   "execution_count": null,
   "metadata": {},
   "outputs": [],
   "source": [
    "from skimage.feature import hog\n",
    "image = io.imread(\"../speed_classification/road_sign_dataset/training_set/speed_50/50 (30).png\")\n",
    "resized_img = cv2.resize(image, (128, 128))\n",
    "gray_image = pp.gray_image(resized_img)   \n",
    "feature_vector , transformed_hog = hog(gray_image , visualize = True  , pixels_per_cell=(8 , 8) , cells_per_block=(4 , 4) , transform_sqrt=True)\n",
    "pp.show_images([gray_image, transformed_hog])"
   ]
  },
  {
   "cell_type": "code",
   "execution_count": 54,
   "metadata": {},
   "outputs": [],
   "source": [
    "# image = io.imread(\"../dataset/screenshots/3.jpg\")\n",
    "image = video_frames[-3]"
   ]
  },
  {
   "cell_type": "code",
   "execution_count": 140,
   "metadata": {},
   "outputs": [],
   "source": [
    "# Load the image\n",
    "image = io.imread(\"../dataset/tc/00173.jpg\")\n"
   ]
  },
  {
   "cell_type": "code",
   "execution_count": 149,
   "metadata": {},
   "outputs": [],
   "source": [
    "\n",
    "resized_img = cv2.resize(image, (1280, 720))\n",
    "\n",
    "#pp.show_images([image], [\"Input Image\"])\n",
    "\n",
    "cropped_img = cv2.hconcat([resized_img[:, :(resized_img.shape[1] // 3)]  , resized_img[:, 2 * (resized_img.shape[1] // 3):]])\n",
    "\n",
    "# Convert the image to grayscale\n",
    "gray_image = pp.gray_image(resized_img)\n",
    "\n",
    "equalized_image = pp.HistogramEqualization(gray_image)\n",
    "\n",
    "# Apply edge detection\n",
    "edge_image = pp.LoGEdgeDetection(equalized_image)\n",
    "\n",
    "# show pp images\n",
    "#pp.show_images([resized_img, image, cropped_img], [\"Input Image\", \"Cropped Image\", \"Edge Image\"])\n"
   ]
  },
  {
   "cell_type": "code",
   "execution_count": 147,
   "metadata": {},
   "outputs": [],
   "source": [
    "\n",
    "# Extract ROIs\n",
    "rois = roi.extract_roi(edge_image , resized_img)\n",
    "\n",
    "# print(rois[0].shape)\n",
    "#show rois\n",
    "\n",
    "# new_images = []\n",
    "# for i in range(len(rois)):\n",
    "#     #  rois[i] = pp.gray_image(rois[i])\n",
    "#      new_images.append(pp.HistogramEqualization(rois[i]))\n",
    "\n",
    "# pp.show_images(rois)"
   ]
  },
  {
   "cell_type": "code",
   "execution_count": 145,
   "metadata": {},
   "outputs": [
    {
     "name": "stdout",
     "output_type": "stream",
     "text": [
      "0.2953190020479882\n",
      "0.2909279864201648\n",
      "0.2762933474763957\n",
      "0.2890423727405617\n",
      "0.2800940557080641\n",
      "0.2860081830649733\n",
      "[6]\n",
      "0\n",
      "prediction is ['3']\n"
     ]
    }
   ],
   "source": [
    "if (len(rois)  == 0):\n",
    "    print(\"no rois\")\n",
    "else:\n",
    "    detected_image_index = detect.detect_sign(rois, sign_imgs_corr)\n",
    "    print(detected_image_index) \n",
    "    if detected_image_index != -1:\n",
    "        \n",
    "        # feature_vector , transformed_hog = hog(rois[detected_image_index] , visualize = True , channel_axis=2  , pixels_per_cell=(16, 16) , transform_sqrt=True)\n",
    "        # pp.show_images([rois[detected_image_index], transformed_hog])\n",
    "\n",
    "        # red_channel = colored_image[:, :, 0]\n",
    "        # green_channel = colored_image[:, :, 1]\n",
    "        # blue_channel = colored_image[:, :, 2]\n",
    "\n",
    "        # new_image = red_channel.copy()\n",
    "\n",
    "        # for i in range(new_image.shape[0]):\n",
    "        #     for j in range(new_image.shape[1]):\n",
    "        #         if (red_channel[i][j]  < 200 and green_channel[i][j] < 200 and blue_channel[i][j] < 200):\n",
    "        #             new_image[i][j] = 255\n",
    "        #         else:\n",
    "        #             new_image[i][j] = 0\n",
    "\n",
    "        new_image = pp.gray_image(rois[detected_image_index])\n",
    "\n",
    "        \n",
    "\n",
    "        \n",
    "        new_image = new_image[ 30:100 , 25:61 ]\n",
    "\n",
    "        #perform closing\n",
    "        kernel = np.ones((2,2), np.uint8)\n",
    "        new_image = cv2.dilate(new_image, kernel, iterations=3)\n",
    "        new_image = cv2.erode(new_image, kernel, iterations=1)\n",
    "        \n",
    "        thrsholded_image = np.zeros_like(new_image)\n",
    "        threshold = filters.threshold_otsu(new_image)\n",
    "        thrsholded_image[new_image <= threshold] = 1\n",
    "        thrsholded_image = cv2.resize(thrsholded_image , (14, 28)).astype(np.uint8)\n",
    "        \n",
    "        new_black_image = np.zeros((32, 32))\n",
    "        new_black_image[2:2+thrsholded_image.shape[0] , 9:9+thrsholded_image.shape[1]] = thrsholded_image\n",
    "\n",
    "        # # apply dilation\n",
    "        # kernel = np.ones((2, 2), np.uint8)\n",
    "        # new_black_image = cv2.dilate(new_black_image, kernel, iterations=1)\n",
    "\n",
    "        \n",
    "        # pp.show_images([colored_image, new_image , thrsholded_image , new_black_image])\n",
    "\n",
    "\n",
    "\n",
    "\n",
    "        # gray_roi = pp.gray_image(rois[detected_image_index])\n",
    "        \n",
    "        # gray_roi = pp.HistogramEqualization(gray_roi)\n",
    "\n",
    "        # new_image = gray_roi[ 20:100 , 15:110 ]\n",
    "\n",
    "        # first_digit = new_image[: , 0:new_image.shape[0]//2]\n",
    "\n",
    "        # pp.show_images([gray_roi , new_image , first_digit], [\"sign_detected\" , \"new_image\" , \"first digit\"]) \n",
    "        \n",
    "        # print(gray_roi.shape)\n",
    "        print(f'prediction is {numbers_classifier.predict(new_black_image)}')\n",
    "    else:\n",
    "        print(\"no sign detected\")\n"
   ]
  }
 ],
 "metadata": {
  "kernelspec": {
   "display_name": "ip_project",
   "language": "python",
   "name": "python3"
  },
  "language_info": {
   "codemirror_mode": {
    "name": "ipython",
    "version": 3
   },
   "file_extension": ".py",
   "mimetype": "text/x-python",
   "name": "python",
   "nbconvert_exporter": "python",
   "pygments_lexer": "ipython3",
   "version": "3.11.5"
  }
 },
 "nbformat": 4,
 "nbformat_minor": 2
}
