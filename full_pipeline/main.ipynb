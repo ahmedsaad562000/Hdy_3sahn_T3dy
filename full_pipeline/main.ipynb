{
 "cells": [
  {
   "cell_type": "code",
   "execution_count": 1,
   "metadata": {},
   "outputs": [],
   "source": [
    "from libs import io , cv2\n",
    "\n",
    "import preprocessing as pp\n",
    "import roi as roi\n",
    "import detection as detect\n",
    "from classifier import H3T_Classifier\n"
   ]
  },
  {
   "cell_type": "code",
   "execution_count": 2,
   "metadata": {},
   "outputs": [],
   "source": [
    "# INIT\n",
    "\n",
    "sign_imgs_corr = detect.get_corrleation_matrices(\"../dataset/corr_signs\")\n"
   ]
  },
  {
   "cell_type": "code",
   "execution_count": 5,
   "metadata": {},
   "outputs": [
    {
     "name": "stdout",
     "output_type": "stream",
     "text": [
      "9379 9379\n"
     ]
    }
   ],
   "source": [
    "\n",
    "classifier = H3T_Classifier()\n",
    "classifier.prepare_training_data(\"../dataset/road_sign_dataset/training_set\")\n",
    "classifier.train(mode = \"svm\")\n",
    "\n",
    "\n"
   ]
  },
  {
   "cell_type": "code",
   "execution_count": 48,
   "metadata": {},
   "outputs": [],
   "source": [
    "# Load the image\n",
    "image = io.imread(\"../dataset/tc/00850.jpg\")\n"
   ]
  },
  {
   "cell_type": "code",
   "execution_count": 53,
   "metadata": {},
   "outputs": [],
   "source": [
    "\n",
    "image = cv2.resize(image, (1280, 720))\n",
    "\n",
    "#pp.show_images([image], [\"Input Image\"])\n",
    "\n",
    "cropped_img = cv2.hconcat([image[:, :(image.shape[1] // 3)]  , image[:, 2 * (image.shape[1] // 3):]])\n",
    "\n",
    "# Convert the image to grayscale\n",
    "gray_image = pp.gray_image(cropped_img)\n",
    "\n",
    "equalized_image = pp.HistogramEqualization(gray_image)\n",
    "\n",
    "# Apply edge detection\n",
    "edge_image = pp.LoGEdgeDetection(equalized_image)\n",
    "\n",
    "# show pp images\n",
    "#pp.show_images([image , cropped_img, edge_image], [\"Input Image\", \"Cropped Image\", \"Edge Image\"])\n"
   ]
  },
  {
   "cell_type": "code",
   "execution_count": 51,
   "metadata": {},
   "outputs": [],
   "source": [
    "\n",
    "# Extract ROIs\n",
    "rois = roi.extract_roi(edge_image, cropped_img)\n",
    "\n",
    "# print(rois[0].shape)\n",
    "#show rois\n",
    "#pp.show_images(rois)\n"
   ]
  },
  {
   "cell_type": "code",
   "execution_count": 52,
   "metadata": {},
   "outputs": [
    {
     "name": "stdout",
     "output_type": "stream",
     "text": [
      "0.39948559466649364\n",
      "0.4132204925836384\n",
      "0.390766933855586\n",
      "0.40017570268781716\n",
      "0.4025854534475243\n",
      "0.3881853314347168\n",
      "[3]\n",
      "0\n",
      "prediction is ['30']\n"
     ]
    }
   ],
   "source": [
    "\n",
    "\n",
    "\n",
    "if (len(rois)  == 0):\n",
    "    print(\"no rois\")\n",
    "else:\n",
    "    detected_image_index = detect.detect_sign(rois, sign_imgs_corr)\n",
    "    print(detected_image_index) \n",
    "    if detected_image_index != -1:\n",
    "        gray_roi = pp.gray_image(rois[detected_image_index])\n",
    "        gray_roi = pp.HistogramEqualization(gray_roi)\n",
    "        #pp.show_images([gray_roi], [\"sign_detected\"])\n",
    "        # print(gray_roi.shape)\n",
    "        print(f'prediction is {classifier.predict(gray_roi)}')\n",
    "    else:\n",
    "        print(\"no sign detected\")\n",
    "\n",
    "\n"
   ]
  }
 ],
 "metadata": {
  "kernelspec": {
   "display_name": "ip_project",
   "language": "python",
   "name": "python3"
  },
  "language_info": {
   "codemirror_mode": {
    "name": "ipython",
    "version": 3
   },
   "file_extension": ".py",
   "mimetype": "text/x-python",
   "name": "python",
   "nbconvert_exporter": "python",
   "pygments_lexer": "ipython3",
   "version": "3.8.18"
  }
 },
 "nbformat": 4,
 "nbformat_minor": 2
}
