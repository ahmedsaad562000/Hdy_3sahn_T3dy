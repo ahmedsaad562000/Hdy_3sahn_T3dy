{
 "cells": [
  {
   "cell_type": "markdown",
   "metadata": {},
   "source": [
    "## Import libraries ##"
   ]
  },
  {
   "cell_type": "code",
   "execution_count": 1,
   "metadata": {},
   "outputs": [],
   "source": [
    "import numpy as np\n",
    "import pickle\n",
    "from sklearn.neighbors import KNeighborsClassifier\n",
    "from skimage.feature import hog\n",
    "import glob\n",
    "from sklearn import metrics\n",
    "import matplotlib.pyplot as plt\n",
    "from matplotlib import image as mpimg\n",
    "import cv2\n",
    "from sklearn.svm import SVC\n",
    "from sklearn.ensemble import RandomForestClassifier\n",
    "import sys\n",
    "sys.path.insert(0 , '/Users/mahmoudkhaled/Desktop/Hdy_3sahn_T3dy-1/')\n",
    "from Preprocessing import preprocessing as pp"
   ]
  },
  {
   "cell_type": "markdown",
   "metadata": {},
   "source": [
    "## Initialization ##"
   ]
  },
  {
   "cell_type": "code",
   "execution_count": 2,
   "metadata": {},
   "outputs": [],
   "source": [
    "speeds = ['30' , '50' , '60' , '70' , '80' , '100' , '120']\n",
    "speed_feature_vector = {speed : [] for speed in speeds}\n",
    "training_dataset_labels = []"
   ]
  },
  {
   "cell_type": "markdown",
   "metadata": {},
   "source": [
    "## Prepare the training dataset ##"
   ]
  },
  {
   "cell_type": "code",
   "execution_count": 3,
   "metadata": {},
   "outputs": [
    {
     "name": "stdout",
     "output_type": "stream",
     "text": [
      "9360 9360\n"
     ]
    }
   ],
   "source": [
    "for speed in speeds:\n",
    "    speed_folder = f'/Users/mahmoudkhaled/Desktop/Hdy_3sahn_T3dy-1/speed_classification/road_sign_dataset/training_set/speed_{speed}/'\n",
    "    for speed_img in glob.glob(f'{speed_folder}*.png'):\n",
    "        img = np.array(mpimg.imread(speed_img))\n",
    "        gray_scale_img = pp.gray_image(img)\n",
    "        resized_img = cv2.resize(gray_scale_img, (128, 128))\n",
    "        feature_vector, _ = hog(resized_img, visualize=True)\n",
    "        speed_feature_vector[speed].append(feature_vector)\n",
    "        training_dataset_labels.append(speed)\n",
    "training_dataset = [feature for speed_list in speed_feature_vector.values() for feature in speed_list]\n",
    "print(len(training_dataset) , len(training_dataset_labels))"
   ]
  },
  {
   "cell_type": "markdown",
   "metadata": {},
   "source": [
    "## Prepare the test set ##"
   ]
  },
  {
   "cell_type": "code",
   "execution_count": 4,
   "metadata": {},
   "outputs": [],
   "source": [
    "test_features, test_labels = [], []\n",
    "for speed in speeds:\n",
    "    speed_folder = f'/Users/mahmoudkhaled/Desktop/Hdy_3sahn_T3dy-1/speed_classification/road_sign_dataset/test_set/speed_{speed}/'\n",
    "    for speed_img in glob.glob(f'{speed_folder}*.png'):\n",
    "        img = np.array(mpimg.imread(speed_img))\n",
    "        gray_scale_img = pp.gray_image(img)\n",
    "        resized_img = cv2.resize(gray_scale_img, (128, 128))\n",
    "        feature_vector, _ = hog(resized_img, visualize=True)\n",
    "        test_features.append(feature_vector)\n",
    "        test_labels.append(speed)\n"
   ]
  },
  {
   "cell_type": "markdown",
   "metadata": {},
   "source": [
    "## Training KNN classifier ##"
   ]
  },
  {
   "cell_type": "code",
   "execution_count": 5,
   "metadata": {},
   "outputs": [],
   "source": [
    "# knn = KNeighborsClassifier(n_neighbors = 20)\n",
    "# knn.fit(training_dataset , training_data_labels)\n",
    "svm = SVC(kernel = \"linear\" , random_state = 0)\n",
    "svm.fit(training_dataset , training_dataset_labels)\n",
    "with open('trained_model.pk1' , 'wb') as file:\n",
    "    pickle.dump(svm , file)\n",
    "# RF_classifier = RandomForestClassifier(n_estimators = 100 , criterion = 'entropy' , random_state = 0)\n",
    "# RF_classifier.fit(training_dataset , training_dataset_labels)"
   ]
  },
  {
   "cell_type": "markdown",
   "metadata": {},
   "source": [
    "## Predicting test set and compute confusion matrix ##"
   ]
  },
  {
   "cell_type": "code",
   "execution_count": null,
   "metadata": {},
   "outputs": [
    {
     "name": "stdout",
     "output_type": "stream",
     "text": [
      "0.9162393162393162\n"
     ]
    }
   ],
   "source": [
    "svm_predicted = svm.predict(test_features)\n",
    "accuracy = svm.score(test_features , test_labels)\n",
    "print(accuracy) "
   ]
  },
  {
   "cell_type": "markdown",
   "metadata": {},
   "source": [
    "## Pridect a single value ##"
   ]
  },
  {
   "cell_type": "code",
   "execution_count": null,
   "metadata": {},
   "outputs": [
    {
     "name": "stdout",
     "output_type": "stream",
     "text": [
      "['60']\n"
     ]
    }
   ],
   "source": [
    "img_to_predict = np.array(mpimg.imread('/Users/mahmoudkhaled/Desktop/Hdy_3sahn_T3dy-1/speed_classification/road_sign_dataset/single_prediction/70.jpeg'))\n",
    "resized_img = cv2.resize(img_to_predict , (128 , 128))\n",
    "feature_vector , _ = hog(resized_img , visualize = True , channel_axis = 2)\n",
    "with open('trained_model.pk1' , 'rb') as file:\n",
    "    svm_trained_model = pickle.load(file)\n",
    "svm_single_prediction = svm_trained_model.predict([feature_vector])\n",
    "print(svm_single_prediction)"
   ]
  }
 ],
 "metadata": {
  "kernelspec": {
   "display_name": "base",
   "language": "python",
   "name": "python3"
  },
  "language_info": {
   "codemirror_mode": {
    "name": "ipython",
    "version": 3
   },
   "file_extension": ".py",
   "mimetype": "text/x-python",
   "name": "python",
   "nbconvert_exporter": "python",
   "pygments_lexer": "ipython3",
   "version": "3.11.1"
  }
 },
 "nbformat": 4,
 "nbformat_minor": 2
}
