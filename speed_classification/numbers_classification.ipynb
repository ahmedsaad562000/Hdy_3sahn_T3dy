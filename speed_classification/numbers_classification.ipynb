{
 "cells": [
  {
   "cell_type": "markdown",
   "metadata": {},
   "source": [
    "## Import libraries ##"
   ]
  },
  {
   "cell_type": "code",
   "execution_count": 1,
   "metadata": {},
   "outputs": [],
   "source": [
    "import numpy as np\n",
    "import pickle\n",
    "from skimage.feature import hog\n",
    "import glob\n",
    "from matplotlib import image as mpimg\n",
    "import cv2\n",
    "from sklearn.svm import SVC\n",
    "import sys\n",
    "sys.path.insert(0 , 'C:\\\\Users\\\\lenovo\\\\OneDrive\\\\Desktop\\\\Hdy_3sahn_T3dy')\n",
    "from Preprocessing import preprocessing as pp"
   ]
  },
  {
   "cell_type": "markdown",
   "metadata": {},
   "source": [
    "## Test HOG Parameters ##"
   ]
  },
  {
   "cell_type": "code",
   "execution_count": 6,
   "metadata": {},
   "outputs": [
    {
     "data": {
      "image/png": "[encoded data removed]",
      "text/plain": [
       "<Figure size 1280x960 with 2 Axes>"
      ]
     },
     "metadata": {},
     "output_type": "display_data"
    }
   ],
   "source": [
    "test_img = mpimg.imread('../speed_classification/numbers_dataset/training_set/number_7/7 (27).jpg')\n",
    "resized_img = cv2.resize(test_img , (64 , 64))\n",
    "feature_vector , image_feature_vector = hog(resized_img , visualize = True , pixels_per_cell = (4,4) , cells_per_block = (4,4) , transform_sqrt = True)\n",
    "pp.show_images([resized_img , image_feature_vector])"
   ]
  },
  {
   "cell_type": "markdown",
   "metadata": {},
   "source": [
    "## Initialization ##"
   ]
  },
  {
   "cell_type": "code",
   "execution_count": 3,
   "metadata": {},
   "outputs": [],
   "source": [
    "numbers = ['1' , '2' , '3' , '4' , '5' , '6' , '7', '8' , '9']\n",
    "numbers_feature_vector = {number : [] for number in numbers}\n",
    "training_dataset_labels = []"
   ]
  },
  {
   "cell_type": "markdown",
   "metadata": {},
   "source": [
    "## Prepare training dataset ##"
   ]
  },
  {
   "cell_type": "code",
   "execution_count": 4,
   "metadata": {},
   "outputs": [
    {
     "name": "stdout",
     "output_type": "stream",
     "text": [
      "7200 7200\n"
     ]
    }
   ],
   "source": [
    "for number in numbers:\n",
    "    numbers_folder = f'C:\\\\Users\\\\lenovo\\\\OneDrive\\\\Desktop\\\\Hdy_3sahn_T3dy\\\\speed_classification\\\\numbers_dataset\\\\training_set\\\\number_{number}/'\n",
    "    for speed_img in glob.glob(f'{numbers_folder}*.jpg'):\n",
    "        img = np.array(mpimg.imread(speed_img))\n",
    "        resized_img = cv2.resize(img, (64, 64))\n",
    "        feature_vector, _ = hog(resized_img, visualize = True , pixels_per_cell = (4,4) , cells_per_block = (4 , 4) , transform_sqrt = True)\n",
    "        numbers_feature_vector[number].append(feature_vector)\n",
    "        training_dataset_labels.append(number)\n",
    "training_dataset = [feature for numbers_list in numbers_feature_vector.values() for feature in numbers_list]\n",
    "print(len(training_dataset) , len(training_dataset_labels))"
   ]
  },
  {
   "cell_type": "markdown",
   "metadata": {},
   "source": [
    "## Train SVM model ##"
   ]
  },
  {
   "cell_type": "code",
   "execution_count": 5,
   "metadata": {},
   "outputs": [],
   "source": [
    "svm = SVC(kernel = \"rbf\" , random_state = 0)\n",
    "svm.fit(training_dataset , training_dataset_labels)\n",
    "with open('trained_model.pk1' , 'wb') as file:\n",
    "    pickle.dump(svm , file)"
   ]
  },
  {
   "cell_type": "markdown",
   "metadata": {},
   "source": [
    "## Predict a single value ##"
   ]
  },
  {
   "cell_type": "code",
   "execution_count": 8,
   "metadata": {},
   "outputs": [
    {
     "name": "stdout",
     "output_type": "stream",
     "text": [
      "['1']\n"
     ]
    }
   ],
   "source": [
    "img_to_predict = np.array(mpimg.imread('C:\\\\Users\\\\lenovo\\\\OneDrive\\\\Desktop\\\\Hdy_3sahn_T3dy\\\\speed_classification\\\\numbers_dataset\\\\training_set\\\\number_1\\\\1 (1).jpg'))\n",
    "resized_img = cv2.resize(img_to_predict , (64 , 64))\n",
    "feature_vector , _ = hog(resized_img , visualize = True, pixels_per_cell = (4 , 4) , cells_per_block = (4 , 4) , transform_sqrt = True)\n",
    "with open('trained_model.pk1' , 'rb') as file:\n",
    "    svm_trained_model = pickle.load(file)\n",
    "svm_single_prediction = svm_trained_model.predict([feature_vector])\n",
    "print(svm_single_prediction)"
   ]
  }
 ],
 "metadata": {
  "kernelspec": {
   "display_name": "base",
   "language": "python",
   "name": "python3"
  },
  "language_info": {
   "codemirror_mode": {
    "name": "ipython",
    "version": 3
   },
   "file_extension": ".py",
   "mimetype": "text/x-python",
   "name": "python",
   "nbconvert_exporter": "python",
   "pygments_lexer": "ipython3",
   "version": "3.11.5"
  }
 },
 "nbformat": 4,
 "nbformat_minor": 2
}
