{
 "cells": [
  {
   "cell_type": "code",
   "execution_count": 2,
   "metadata": {},
   "outputs": [],
   "source": [
    "# %pip install opencv-python\n",
    "# %pip install --upgrade numpy"
   ]
  },
  {
   "cell_type": "code",
   "execution_count": 3,
   "metadata": {},
   "outputs": [
    {
     "name": "stderr",
     "output_type": "stream",
     "text": [
      "c:\\Users\\Ahmed\\anaconda3\\lib\\site-packages\\scipy\\__init__.py:155: UserWarning: A NumPy version >=1.18.5 and <1.25.0 is required for this version of SciPy (detected version 1.26.2\n",
      "  warnings.warn(f\"A NumPy version >={np_minversion} and <{np_maxversion}\"\n"
     ]
    }
   ],
   "source": [
    "# utility libraries\n",
    "import numpy as np\n",
    "import cv2\n",
    "import sys\n",
    "# import preprocessing module\n",
    "sys.path.append('../')\n",
    "from Preprocessing import preprocessing as pp"
   ]
  },
  {
   "cell_type": "code",
   "execution_count": 4,
   "metadata": {},
   "outputs": [],
   "source": [
    "def extract_roi(edge_image, image):\n",
    "  \"\"\"\n",
    "  Extracts the region of interest (ROI) from an edge-filtered image.\n",
    "\n",
    "  Args:\n",
    "      edge_image: A grayscale image with edges detected.\n",
    "\n",
    "  Returns:\n",
    "      A list of tuples, where each tuple contains the following information for an ROI:\n",
    "          - (x_min, y_min): Coordinates of the top-left corner.\n",
    "          - (x_max, y_max): Coordinates of the bottom-right corner.\n",
    "          - normalized_signature: Normalized signature of the ROI.\n",
    "          - shape_type: Type of shape detected (e.g., \"circle\").\n",
    "  \"\"\"\n",
    "\n",
    "  # Find contours in the edge image\n",
    "  # mode: cv2.RETR_EXTERNAL retrieves only the extreme outer contours (boundries) and ignore nested inside contours\n",
    "\n",
    "  # When you detect contours in an image, each contour is a list of points that form the boundary of the object. However,\n",
    "  # not all of these points are always necessary to accurately describe the shape. \n",
    "  # `cv2.CHAIN_APPROX_SIMPLE` is an algorithm that reduces the number of points in the contour. It removes all redundant \n",
    "  # points and compresses the contour, thereby saving memory.\n",
    "  # It does this by storing only the end points of the horizontal, vertical, and diagonal line segments that make up the contour. \n",
    "\n",
    "  # contours: list of contours where each contour is a Numpy array of (x, y) coordinates of boundary points of the object\n",
    "  contours, hierarchy = cv2.findContours(edge_image, cv2.RETR_EXTERNAL, cv2.CHAIN_APPROX_NONE)\n",
    "\n",
    "  # List to store extracted ROIs\n",
    "  extracted_rois = []\n",
    "\n",
    "  # Minimum area threshold to avoid small objects and retrieve only potential ROIs\n",
    "  min_area = 100\n",
    "\n",
    "  # Iterate through each contour\n",
    "  for contour in contours:\n",
    "    # Calculate area of the contour\n",
    "    area = cv2.contourArea(contour)\n",
    "\n",
    "    # Skip small contours\n",
    "    if area < min_area:\n",
    "      continue\n",
    "\n",
    "    # Gets the smallest possible circle that encloses the contour with its centroid and radius\n",
    "    centroid, radius = cv2.minEnclosingCircle(contour)\n",
    "\n",
    "    # Get bounding rectangle of the contour\n",
    "    # x, y: Coordinates of the top-left corner\n",
    "    # w, h: Width and height of the rectangle\n",
    "    x, y, w, h = cv2.boundingRect(contour)\n",
    "\n",
    "    # Calculate the area of the enclosing circle\n",
    "    circle_area = np.pi * (radius ** 2)\n",
    "\n",
    "    # add the contour to the list of circle contours\n",
    "    if  np.isclose(area, circle_area, rtol=0.3):  # 30% tolerance\n",
    "        img_copy = image.copy()\n",
    "        # Create an empty mask\n",
    "        mask = np.zeros_like(img_copy, dtype=np.uint8)\n",
    "        # Draw the contour on the mask\n",
    "        cv2.drawContours(mask, [contour], 0, (255, 255, 255), thickness=cv2.FILLED)\n",
    "        # Invert the mask (to keep the area inside the contour)\n",
    "        mask_inv = cv2.bitwise_not(mask)\n",
    "        # Set all areas outside the contour to white\n",
    "        result = cv2.bitwise_and(img_copy, mask)\n",
    "        result += mask_inv\n",
    "        # Use the bounding rectangle coordinates to create the sub-image\n",
    "        sub_image = result[y:y+h, x:x+w]\n",
    "\n",
    "        # Create the Gaussian blur\n",
    "        gauss = cv2.GaussianBlur(sub_image, (9,9), 10.0)\n",
    "        # Create the unsharp image by subtracting the Gaussian blur\n",
    "        unsharp_image = cv2.addWeighted(sub_image, 1.5, gauss, -0.5, 0, sub_image)\n",
    "\n",
    "        # Store extracted ROI information\n",
    "        extracted_rois.append(unsharp_image)\n",
    "\n",
    "  # Return the list of extracted ROIs\n",
    "  return extracted_rois"
   ]
  },
  {
   "cell_type": "code",
   "execution_count": 6,
   "metadata": {},
   "outputs": [
    {
     "data": {
      "image/png": "[encoded data removed]",
      "text/plain": [
       "<Figure size 640x480 with 1 Axes>"
      ]
     },
     "metadata": {},
     "output_type": "display_data"
    }
   ],
   "source": [
    "'''\n",
    "Testing\n",
    "'''\n",
    "# Load the image\n",
    "image = cv2.imread(\"../dataset/testcase5.jpg\")\n",
    "\n",
    "# Convert the image to grayscale\n",
    "gray_image = cv2.cvtColor(image, cv2.COLOR_BGR2GRAY)\n",
    "\n",
    "# Apply edge detection\n",
    "edge_image = cv2.Canny(gray_image, 50, 150)\n",
    "\n",
    "# pp.show_images([gray_image, edge_image], [\"Grayscale Image\", \"Edge Image\"])\n",
    "\n",
    "# Extract ROIs\n",
    "rois = extract_roi(edge_image, image.copy())\n",
    "\n",
    "pp.show_images(rois, [\"ROI\"])"
   ]
  }
 ],
 "metadata": {
  "kernelspec": {
   "display_name": "base",
   "language": "python",
   "name": "python3"
  },
  "language_info": {
   "codemirror_mode": {
    "name": "ipython",
    "version": 3
   },
   "file_extension": ".py",
   "mimetype": "text/x-python",
   "name": "python",
   "nbconvert_exporter": "python",
   "pygments_lexer": "ipython3",
   "version": "3.9.13"
  }
 },
 "nbformat": 4,
 "nbformat_minor": 2
}
