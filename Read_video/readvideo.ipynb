{
 "cells": [
  {
   "cell_type": "code",
   "execution_count": 8,
   "metadata": {},
   "outputs": [],
   "source": [
    "import cv2\n",
    "import os"
   ]
  },
  {
   "cell_type": "code",
   "execution_count": 9,
   "metadata": {},
   "outputs": [],
   "source": [
    "def extract_frames(video_path, output_folder, fps=1):\n",
    "    \"\"\"\n",
    "    Extract frames from a video at a given frame rate.\n",
    "\n",
    "    Parameters:\n",
    "    - video_path (str): Path to the input video.\n",
    "    - output_folder (str): Path to the folder where frames will be saved.\n",
    "    - fps (int): Frames per second to extract.\n",
    "\n",
    "    Returns:\n",
    "    - None\n",
    "    \"\"\"\n",
    "\n",
    "    # Open the video file\n",
    "    cap = cv2.VideoCapture(video_path)\n",
    "    if not cap.isOpened():\n",
    "        print(\"Error: Couldn't open the video file.\")\n",
    "        return\n",
    "\n",
    "    frame_count = 0\n",
    "    frames = []\n",
    "    while True:\n",
    "        ret, frame = cap.read()\n",
    "\n",
    "        # Break the loop if no more frames available\n",
    "        if not ret:\n",
    "            break\n",
    "\n",
    "        # Check if the current frame count is divisible by the desired FPS\n",
    "        if frame_count % fps == 0:\n",
    "            frame_path = f\"{output_folder}/frame_{frame_count}.jpg\"\n",
    "            cv2.imwrite(frame_path, frame)\n",
    "            print(f\"Saved frame {frame_count}\")\n",
    "            frames.append(frame)\n",
    "\n",
    "        frame_count += 1\n",
    "\n",
    "    cap.release()\n",
    "    \n",
    "    return frames"
   ]
  },
  {
   "cell_type": "code",
   "execution_count": 10,
   "metadata": {},
   "outputs": [],
   "source": [
    "def clear_folder(folder_path):\n",
    "    \"\"\"\n",
    "    Clear all files from a folder.\n",
    "\n",
    "    Parameters:\n",
    "    - folder_path (str): Path to the folder.\n",
    "\n",
    "    Returns:\n",
    "    - None\n",
    "    \"\"\"\n",
    "    for filename in os.listdir(folder_path):\n",
    "        file_path = os.path.join(folder_path, filename)\n",
    "        try:\n",
    "            if os.path.isfile(file_path):\n",
    "                os.remove(file_path)\n",
    "        except Exception as e:\n",
    "            print(f\"Error deleting {file_path}: {e}\")"
   ]
  },
  {
   "cell_type": "code",
   "execution_count": 13,
   "metadata": {},
   "outputs": [
    {
     "name": "stdout",
     "output_type": "stream",
     "text": [
      "Saved frame 0\n",
      "Saved frame 20\n",
      "Saved frame 40\n",
      "Saved frame 60\n",
      "Saved frame 80\n",
      "Saved frame 100\n",
      "Saved frame 120\n",
      "Saved frame 140\n",
      "Saved frame 160\n",
      "Saved frame 180\n",
      "Saved frame 200\n",
      "Saved frame 220\n",
      "Saved frame 240\n",
      "Saved frame 260\n",
      "Saved frame 280\n",
      "Saved frame 300\n"
     ]
    }
   ],
   "source": [
    "# Example usage\n",
    "video_path = '../dataset/videos/IMG_5066.MOV'\n",
    "output_folder = '../dataset/video_frames/'\n",
    "clear_folder(output_folder)\n",
    "extract_frames(video_path, output_folder, fps=20)  # Extract frames every 2 seconds"
   ]
  }
 ],
 "metadata": {
  "kernelspec": {
   "display_name": "base",
   "language": "python",
   "name": "python3"
  },
  "language_info": {
   "codemirror_mode": {
    "name": "ipython",
    "version": 3
   },
   "file_extension": ".py",
   "mimetype": "text/x-python",
   "name": "python",
   "nbconvert_exporter": "python",
   "pygments_lexer": "ipython3",
   "version": "3.9.18"
  }
 },
 "nbformat": 4,
 "nbformat_minor": 2
}
